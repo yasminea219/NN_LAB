{
 "cells": [
  {
   "cell_type": "code",
   "execution_count": 1,
   "metadata": {},
   "outputs": [],
   "source": [
    "import numpy as np\n",
    "import tensorflow as tf"
   ]
  },
  {
   "cell_type": "code",
   "execution_count": 11,
   "metadata": {},
   "outputs": [
    {
     "name": "stdout",
     "output_type": "stream",
     "text": [
      "[51757.18, None]\n",
      "[51706.465, None]\n",
      "[51610.312, None]\n",
      "[51473.375, None]\n",
      "[51300.06, None]\n",
      "[51094.715, None]\n",
      "[50860.84, None]\n",
      "[50601.777, None]\n",
      "[50320.676, None]\n",
      "[50020.336, None]\n",
      "[49703.355, None]\n",
      "[49371.89, None]\n",
      "[49028.02, None]\n",
      "[48673.816, None]\n",
      "[48310.695, None]\n",
      "[47940.3, None]\n",
      "[47563.97, None]\n",
      "[47182.92, None]\n",
      "[46798.1, None]\n",
      "[46410.625, None]\n",
      "[46021.355, None]\n",
      "[45631.01, None]\n",
      "[45240.24, None]\n",
      "[44849.715, None]\n",
      "[44459.86, None]\n",
      "[44071.38, None]\n",
      "[43684.453, None]\n",
      "[43299.395, None]\n",
      "[42916.69, None]\n",
      "[42536.49, None]\n",
      "[42159.113, None]\n",
      "[41784.73, None]\n",
      "[41413.445, None]\n",
      "[41045.555, None]\n",
      "[40681.027, None]\n",
      "[40320.11, None]\n",
      "[39962.71, None]\n",
      "[39609.04, None]\n",
      "[39259.06, None]\n",
      "[38912.816, None]\n",
      "[38570.465, None]\n",
      "[38231.83, None]\n",
      "[37897.09, None]\n",
      "[37566.074, None]\n",
      "[37238.96, None]\n",
      "[36915.54, None]\n",
      "[36595.98, None]\n",
      "[36280.098, None]\n",
      "[35967.99, None]\n",
      "[35659.582, None]\n"
     ]
    }
   ],
   "source": [
    "N, H, D=64, 100, 1000\n",
    "x=tf.placeholder(tf.float32, shape=(N, D))\n",
    "y=tf.placeholder(tf.float32, shape=(N, D))\n",
    "w1=tf.Variable(tf.random_normal((D, H)))\n",
    "w2=tf.Variable(tf.random_normal((H, D)))\n",
    "\n",
    "h=tf.maximum(tf.matmul(x, w1), 0)\n",
    "y_pred=tf.matmul(h,w2)\n",
    "loss=tf.losses.mean_squared_error(y_pred, y)\n",
    "optimizer = tf.train.MomentumOptimizer(learning_rate=1e-5,use_locking=False, momentum=0.9)\n",
    "updates=optimizer.minimize(loss)\n",
    "with tf.Session() as sess:\n",
    "    \n",
    "    sess.run(tf.global_variables_initializer())\n",
    "    values = {x: np.random.randn(N, D),\n",
    "              y:  np.random.randn(N, D)\n",
    "               }\n",
    "    for t in range(50):\n",
    "        loss_val=sess.run([loss, updates], feed_dict=values)\n",
    "        print(loss_val)"
   ]
  },
  {
   "cell_type": "code",
   "execution_count": null,
   "metadata": {},
   "outputs": [],
   "source": []
  }
 ],
 "metadata": {
  "kernelspec": {
   "display_name": "NNlab",
   "language": "python",
   "name": "nnlab"
  },
  "language_info": {
   "codemirror_mode": {
    "name": "ipython",
    "version": 3
   },
   "file_extension": ".py",
   "mimetype": "text/x-python",
   "name": "python",
   "nbconvert_exporter": "python",
   "pygments_lexer": "ipython3",
   "version": "3.6.6"
  }
 },
 "nbformat": 4,
 "nbformat_minor": 2
}

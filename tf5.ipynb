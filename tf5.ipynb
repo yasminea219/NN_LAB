{
 "cells": [
  {
   "cell_type": "code",
   "execution_count": 1,
   "metadata": {},
   "outputs": [],
   "source": [
    "import numpy as np\n",
    "import tensorflow as tf"
   ]
  },
  {
   "cell_type": "code",
   "execution_count": 5,
   "metadata": {},
   "outputs": [
    {
     "name": "stdout",
     "output_type": "stream",
     "text": [
      "[48499.145, None]\n",
      "[48455.29, None]\n",
      "[48411.746, None]\n",
      "[48367.977, None]\n",
      "[48324.434, None]\n",
      "[48280.906, None]\n",
      "[48237.375, None]\n",
      "[48194.047, None]\n",
      "[48150.723, None]\n",
      "[48107.348, None]\n",
      "[48064.13, None]\n",
      "[48020.953, None]\n",
      "[47977.89, None]\n",
      "[47934.76, None]\n",
      "[47891.824, None]\n",
      "[47848.832, None]\n",
      "[47805.984, None]\n",
      "[47763.035, None]\n",
      "[47720.38, None]\n",
      "[47677.707, None]\n",
      "[47634.996, None]\n",
      "[47592.465, None]\n",
      "[47549.98, None]\n",
      "[47507.438, None]\n",
      "[47465.04, None]\n",
      "[47422.67, None]\n",
      "[47380.375, None]\n",
      "[47338.094, None]\n",
      "[47295.89, None]\n",
      "[47253.75, None]\n",
      "[47211.73, None]\n",
      "[47169.633, None]\n",
      "[47127.723, None]\n",
      "[47085.867, None]\n",
      "[47044.016, None]\n",
      "[47002.133, None]\n",
      "[46960.44, None]\n",
      "[46918.785, None]\n",
      "[46877.082, None]\n",
      "[46835.54, None]\n",
      "[46794.05, None]\n",
      "[46752.5, None]\n",
      "[46711.145, None]\n",
      "[46669.777, None]\n",
      "[46628.53, None]\n",
      "[46587.293, None]\n",
      "[46546.035, None]\n",
      "[46504.977, None]\n",
      "[46463.86, None]\n",
      "[46422.816, None]\n"
     ]
    }
   ],
   "source": [
    "N, H, D=64, 100, 1000\n",
    "x=tf.placeholder(tf.float32, shape=(N, D))\n",
    "y=tf.placeholder(tf.float32, shape=(N, D))\n",
    "w1=tf.Variable(tf.random_normal((D, H)))\n",
    "w2=tf.Variable(tf.random_normal((H, D)))\n",
    "\n",
    "h=tf.maximum(tf.matmul(x, w1), 0)\n",
    "y_pred=tf.matmul(h,w2)\n",
    "loss=tf.losses.mean_squared_error(y_pred, y)\n",
    "optimizer = tf.train.GradientDescentOptimizer(1e-5)\n",
    "updates=optimizer.minimize(loss)\n",
    "with tf.Session() as sess:\n",
    "    \n",
    "    sess.run(tf.global_variables_initializer())\n",
    "    values = {x: np.random.randn(N, D),\n",
    "              y:  np.random.randn(N, D)\n",
    "               }\n",
    "    losses=[] #??\n",
    "    for t in range(50):\n",
    "        loss_val=sess.run([loss, updates], feed_dict=values)\n",
    "        print(loss_val)"
   ]
  },
  {
   "cell_type": "code",
   "execution_count": null,
   "metadata": {},
   "outputs": [],
   "source": []
  }
 ],
 "metadata": {
  "kernelspec": {
   "display_name": "NNlab",
   "language": "python",
   "name": "nnlab"
  },
  "language_info": {
   "codemirror_mode": {
    "name": "ipython",
    "version": 3
   },
   "file_extension": ".py",
   "mimetype": "text/x-python",
   "name": "python",
   "nbconvert_exporter": "python",
   "pygments_lexer": "ipython3",
   "version": "3.6.6"
  }
 },
 "nbformat": 4,
 "nbformat_minor": 2
}

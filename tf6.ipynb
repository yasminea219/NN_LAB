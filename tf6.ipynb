{
 "cells": [
  {
   "cell_type": "code",
   "execution_count": 1,
   "metadata": {},
   "outputs": [],
   "source": [
    "import numpy as np\n",
    "import tensorflow as tf"
   ]
  },
  {
   "cell_type": "code",
   "execution_count": 3,
   "metadata": {},
   "outputs": [
    {
     "name": "stdout",
     "output_type": "stream",
     "text": [
      "[50161.363, None]\n",
      "[50142.414, None]\n",
      "[50127.61, None]\n",
      "[50114.695, None]\n",
      "[50103.16, None]\n",
      "[50092.285, None]\n",
      "[50082.19, None]\n",
      "[50072.38, None]\n",
      "[50063.01, None]\n",
      "[50053.996, None]\n",
      "[50045.117, None]\n",
      "[50036.547, None]\n",
      "[50028.043, None]\n",
      "[50019.793, None]\n",
      "[50011.57, None]\n",
      "[50003.45, None]\n",
      "[49995.473, None]\n",
      "[49987.594, None]\n",
      "[49979.7, None]\n",
      "[49971.906, None]\n",
      "[49964.207, None]\n",
      "[49956.5, None]\n",
      "[49948.9, None]\n",
      "[49941.297, None]\n",
      "[49933.74, None]\n",
      "[49926.125, None]\n",
      "[49918.684, None]\n",
      "[49911.207, None]\n",
      "[49903.746, None]\n",
      "[49896.29, None]\n",
      "[49888.793, None]\n",
      "[49881.457, None]\n",
      "[49874.035, None]\n",
      "[49866.61, None]\n",
      "[49859.246, None]\n",
      "[49851.855, None]\n",
      "[49844.54, None]\n",
      "[49837.15, None]\n",
      "[49829.86, None]\n",
      "[49822.54, None]\n",
      "[49815.113, None]\n",
      "[49807.84, None]\n",
      "[49800.46, None]\n",
      "[49793.203, None]\n",
      "[49785.805, None]\n",
      "[49778.53, None]\n",
      "[49771.227, None]\n",
      "[49763.96, None]\n",
      "[49756.668, None]\n",
      "[49749.402, None]\n"
     ]
    }
   ],
   "source": [
    "N, H, D=64, 100, 1000\n",
    "x=tf.placeholder(tf.float32, shape=(N, D))\n",
    "y=tf.placeholder(tf.float32, shape=(N, D))\n",
    "w1=tf.Variable(tf.random_normal((D, H)))\n",
    "w2=tf.Variable(tf.random_normal((H, D)))\n",
    "\n",
    "h=tf.maximum(tf.matmul(x, w1), 0)\n",
    "y_pred=tf.matmul(h,w2)\n",
    "loss=tf.losses.mean_squared_error(y_pred, y)\n",
    "optimizer = tf.train.RMSPropOptimizer(1e-5)\n",
    "updates=optimizer.minimize(loss)\n",
    "with tf.Session() as sess:\n",
    "    \n",
    "    sess.run(tf.global_variables_initializer())\n",
    "    values = {x: np.random.randn(N, D),\n",
    "              y:  np.random.randn(N, D)\n",
    "               }\n",
    "    losses=[] #??\n",
    "    for t in range(50):\n",
    "        loss_val=sess.run([loss, updates], feed_dict=values)\n",
    "        print(loss_val)"
   ]
  },
  {
   "cell_type": "code",
   "execution_count": null,
   "metadata": {},
   "outputs": [],
   "source": []
  }
 ],
 "metadata": {
  "kernelspec": {
   "display_name": "NNlab",
   "language": "python",
   "name": "nnlab"
  },
  "language_info": {
   "codemirror_mode": {
    "name": "ipython",
    "version": 3
   },
   "file_extension": ".py",
   "mimetype": "text/x-python",
   "name": "python",
   "nbconvert_exporter": "python",
   "pygments_lexer": "ipython3",
   "version": "3.6.6"
  }
 },
 "nbformat": 4,
 "nbformat_minor": 2
}

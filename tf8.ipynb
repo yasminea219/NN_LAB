{
 "cells": [
  {
   "cell_type": "code",
   "execution_count": 1,
   "metadata": {},
   "outputs": [],
   "source": [
    "import numpy as np\n",
    "import tensorflow as tf"
   ]
  },
  {
   "cell_type": "code",
   "execution_count": 4,
   "metadata": {},
   "outputs": [
    {
     "name": "stdout",
     "output_type": "stream",
     "text": [
      "[51099.652, None]\n",
      "[50353.01, None]\n",
      "[49616.324, None]\n",
      "[48889.797, None]\n",
      "[48173.29, None]\n",
      "[47466.887, None]\n",
      "[46770.617, None]\n",
      "[46084.44, None]\n",
      "[45408.28, None]\n",
      "[44742.273, None]\n",
      "[44086.24, None]\n",
      "[43440.227, None]\n",
      "[42804.03, None]\n",
      "[42177.777, None]\n",
      "[41561.473, None]\n",
      "[40954.832, None]\n",
      "[40357.867, None]\n",
      "[39770.45, None]\n",
      "[39192.598, None]\n",
      "[38623.938, None]\n",
      "[38064.734, None]\n",
      "[37514.723, None]\n",
      "[36973.65, None]\n",
      "[36441.46, None]\n",
      "[35918.195, None]\n",
      "[35403.562, None]\n",
      "[34897.49, None]\n",
      "[34399.824, None]\n",
      "[33910.43, None]\n",
      "[33429.234, None]\n",
      "[32956.117, None]\n",
      "[32490.756, None]\n",
      "[32033.281, None]\n",
      "[31583.389, None]\n",
      "[31141.012, None]\n",
      "[30706.01, None]\n",
      "[30278.242, None]\n",
      "[29857.543, None]\n",
      "[29443.83, None]\n",
      "[29036.957, None]\n",
      "[28636.844, None]\n",
      "[28243.238, None]\n",
      "[27856.207, None]\n",
      "[27475.477, None]\n",
      "[27100.98, None]\n",
      "[26732.61, None]\n",
      "[26370.242, None]\n",
      "[26013.762, None]\n",
      "[25663.01, None]\n",
      "[25317.86, None]\n"
     ]
    }
   ],
   "source": [
    "N, H, D=64, 100, 1000\n",
    "x=tf.placeholder(tf.float32, shape=(N, D))\n",
    "y=tf.placeholder(tf.float32, shape=(N, D))\n",
    "w1=tf.Variable(tf.random_normal((D, H)))\n",
    "w2=tf.Variable(tf.random_normal((H, D)))\n",
    "\n",
    "h=tf.maximum(tf.matmul(x, w1), 0)\n",
    "y_pred=tf.matmul(h,w2)\n",
    "loss=tf.losses.mean_squared_error(y_pred, y)\n",
    "optimizer = tf.train.AdamOptimizer (learning_rate=0.001, beta1=0.9, beta2=0.999, epsilon=1e-08, use_locking=False, name='Adam')\n",
    "updates=optimizer.minimize(loss)\n",
    "with tf.Session() as sess:\n",
    "    \n",
    "    sess.run(tf.global_variables_initializer())\n",
    "    values = {x: np.random.randn(N, D),\n",
    "              y:  np.random.randn(N, D)\n",
    "               }\n",
    "    losses=[] #??\n",
    "    for t in range(50):\n",
    "        loss_val=sess.run([loss, updates], feed_dict=values)\n",
    "        print(loss_val)"
   ]
  },
  {
   "cell_type": "code",
   "execution_count": null,
   "metadata": {},
   "outputs": [],
   "source": []
  }
 ],
 "metadata": {
  "kernelspec": {
   "display_name": "NNlab",
   "language": "python",
   "name": "nnlab"
  },
  "language_info": {
   "codemirror_mode": {
    "name": "ipython",
    "version": 3
   },
   "file_extension": ".py",
   "mimetype": "text/x-python",
   "name": "python",
   "nbconvert_exporter": "python",
   "pygments_lexer": "ipython3",
   "version": "3.6.6"
  }
 },
 "nbformat": 4,
 "nbformat_minor": 2
}

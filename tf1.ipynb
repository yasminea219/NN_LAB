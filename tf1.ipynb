{
 "cells": [
  {
   "cell_type": "code",
   "execution_count": 2,
   "metadata": {},
   "outputs": [],
   "source": [
    "import tensorflow as tf\n",
    "import numpy as np"
   ]
  },
  {
   "cell_type": "code",
   "execution_count": 29,
   "metadata": {},
   "outputs": [],
   "source": [
    "N, H, D=64, 100, 1000\n",
    "x=tf.placeholder(tf.float64, shape=(N, D))\n",
    "y=tf.placeholder(tf.float64, shape=(N, D))\n",
    "w1=tf.placeholder(tf.float64, shape=(D, H))\n",
    "w2=tf.placeholder(tf.float64, shape=(H, D))\n",
    "h=tf.maximum(tf.matmul(x, w1),0)\n",
    "y_pred=tf.matmul(h,w2)\n",
    "diff=y_pred-y\n",
    "loss=tf.reduce_mean(tf.reduce_sum(diff**2, axis=1)) #??\n",
    "grad_w1, grad_w2=tf.gradients(loss,[w1, w2])"
   ]
  },
  {
   "cell_type": "code",
   "execution_count": 28,
   "metadata": {},
   "outputs": [
    {
     "name": "stdout",
     "output_type": "stream",
     "text": [
      "50221627.27231752 [[  1508.16008745  -3603.86827928 -13351.16701661 ...    509.22775316\n",
      "    4169.23820297  -6578.28341423]\n",
      " [  6212.39857367   7824.12648048   3489.77651874 ...   3926.1332046\n",
      "     -31.59785413  -2569.22137027]\n",
      " [ -4350.48632144   -782.32150885    703.93662172 ...  -7200.1165195\n",
      "    1032.18029211   2635.36298976]\n",
      " ...\n",
      " [ -9598.72307059 -11171.45765717 -13191.71924962 ...  -5300.19903776\n",
      "    2129.34076966 -13743.62336902]\n",
      " [  -757.9827287    3314.92089861   6435.40277872 ...    155.01120062\n",
      "    4741.22880661   -414.25607888]\n",
      " [  -386.95246994  -3596.2600253    1035.45568861 ...   6951.93826277\n",
      "    4682.03860689   2752.12739968]] [[-2103.63713912  6343.75546626  4418.84647879 ...  -308.63774224\n",
      "   -890.42782382 -1676.65126803]\n",
      " [ -731.69046566  3701.84235889  4184.69988913 ... -1314.90911679\n",
      "  -2179.32280551 -1138.61016066]\n",
      " [ -918.28235856  5165.03969969  4081.80183778 ...   197.1111369\n",
      "  -2030.59055624 -2444.100703  ]\n",
      " ...\n",
      " [-1070.93839711  3998.75653303  4283.22528679 ...  -452.54779193\n",
      "  -1222.51663772    58.29413038]\n",
      " [-1487.41754553  3125.366514    2854.45601944 ... -3070.0771996\n",
      "  -1213.69219422 -1974.65066458]\n",
      " [-3106.89904256  3416.05101627  3824.61160172 ... -2822.34129951\n",
      "    -42.9658417  -2683.802764  ]]\n"
     ]
    }
   ],
   "source": [
    "with tf.Session() as sess:\n",
    "    values = {x: np.random.randn(N, D),\n",
    "             w1: np.random.randn(D, H),\n",
    "             w2: np.random.randn(H, D),\n",
    "             y:  np.random.randn(N, D)\n",
    "             }\n",
    "    out = sess.run([loss, grad_w1, grad_w2], feed_dict=values)\n",
    "    loss_val, grad_w1_val, grad_w2_val=out\n",
    "    print( loss_val, grad_w1_val, grad_w2_val)"
   ]
  },
  {
   "cell_type": "code",
   "execution_count": null,
   "metadata": {},
   "outputs": [],
   "source": []
  }
 ],
 "metadata": {
  "kernelspec": {
   "display_name": "NNlab",
   "language": "python",
   "name": "nnlab"
  },
  "language_info": {
   "codemirror_mode": {
    "name": "ipython",
    "version": 3
   },
   "file_extension": ".py",
   "mimetype": "text/x-python",
   "name": "python",
   "nbconvert_exporter": "python",
   "pygments_lexer": "ipython3",
   "version": "3.6.6"
  }
 },
 "nbformat": 4,
 "nbformat_minor": 2
}

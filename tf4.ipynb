{
 "cells": [
  {
   "cell_type": "code",
   "execution_count": 1,
   "metadata": {},
   "outputs": [],
   "source": [
    "import numpy as np\n",
    "import tensorflow as tf"
   ]
  },
  {
   "cell_type": "code",
   "execution_count": 4,
   "metadata": {},
   "outputs": [
    {
     "name": "stdout",
     "output_type": "stream",
     "text": [
      "[49610860.0, None]\n",
      "[17642848.0, None]\n",
      "[9223075.0, None]\n",
      "[5397129.0, None]\n",
      "[3382359.8, None]\n",
      "[2224770.0, None]\n",
      "[1517291.4, None]\n",
      "[1063909.4, None]\n",
      "[761521.56, None]\n",
      "[554328.4, None]\n",
      "[409474.88, None]\n",
      "[306116.44, None]\n",
      "[230916.47, None]\n",
      "[175725.31, None]\n",
      "[134681.47, None]\n",
      "[103817.04, None]\n",
      "[80487.516, None]\n",
      "[62716.152, None]\n",
      "[49085.047, None]\n",
      "[38593.977, None]\n",
      "[30477.113, None]\n",
      "[24171.195, None]\n",
      "[19253.02, None]\n",
      "[15406.309, None]\n",
      "[12389.413, None]\n",
      "[10017.145, None]\n",
      "[8147.5503, None]\n",
      "[6670.1895, None]\n",
      "[5502.631, None]\n",
      "[4578.071, None]\n",
      "[3844.689, None]\n",
      "[3262.1274, None]\n",
      "[2798.855, None]\n",
      "[2429.9282, None]\n",
      "[2135.7188, None]\n",
      "[1901.2467, None]\n",
      "[1714.2301, None]\n",
      "[1564.8701, None]\n",
      "[1445.6714, None]\n",
      "[1350.4302, None]\n",
      "[1274.3181, None]\n",
      "[1213.3916, None]\n",
      "[1164.6409, None]\n",
      "[1125.653, None]\n",
      "[1094.4797, None]\n",
      "[1069.5742, None]\n",
      "[1049.6691, None]\n",
      "[1033.8264, None]\n",
      "[1021.2135, None]\n",
      "[1011.19446, None]\n"
     ]
    }
   ],
   "source": [
    "N, H, D=64, 100, 1000\n",
    "x=tf.placeholder(tf.float32, shape=(N, D))\n",
    "y=tf.placeholder(tf.float32, shape=(N, D))\n",
    "w1=tf.Variable(tf.random_normal((D, H)))\n",
    "w2=tf.Variable(tf.random_normal((H, D)))\n",
    "\n",
    "h=tf.maximum(tf.matmul(x, w1), 0)\n",
    "y_pred=tf.matmul(h,w2)\n",
    "diff=y_pred-y\n",
    "loss=tf.reduce_mean(tf.reduce_sum(diff**2, axis=1))\n",
    "optimizer = tf.train.GradientDescentOptimizer(1e-5)\n",
    "updates=optimizer.minimize(loss)\n",
    "with tf.Session() as sess:\n",
    "    \n",
    "    sess.run(tf.global_variables_initializer())\n",
    "    values = {x: np.random.randn(N, D),\n",
    "              y:  np.random.randn(N, D)\n",
    "               }\n",
    "    losses=[] #??\n",
    "    for t in range(50):\n",
    "        loss_val=sess.run([loss, updates], feed_dict=values)\n",
    "        print(loss_val)"
   ]
  },
  {
   "cell_type": "code",
   "execution_count": null,
   "metadata": {},
   "outputs": [],
   "source": []
  }
 ],
 "metadata": {
  "kernelspec": {
   "display_name": "NNlab",
   "language": "python",
   "name": "nnlab"
  },
  "language_info": {
   "codemirror_mode": {
    "name": "ipython",
    "version": 3
   },
   "file_extension": ".py",
   "mimetype": "text/x-python",
   "name": "python",
   "nbconvert_exporter": "python",
   "pygments_lexer": "ipython3",
   "version": "3.6.6"
  }
 },
 "nbformat": 4,
 "nbformat_minor": 2
}

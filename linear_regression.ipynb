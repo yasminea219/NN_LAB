{
 "cells": [
  {
   "cell_type": "code",
   "execution_count": 1,
   "metadata": {},
   "outputs": [],
   "source": [
    "import tensorflow as tf\n",
    "import numpy as np\n",
    "import matplotlib.pyplot "
   ]
  },
  {
   "cell_type": "code",
   "execution_count": 2,
   "metadata": {},
   "outputs": [],
   "source": [
    "num_puntos= 100\n",
    "conjunto_puntos = []\n",
    "for i in range(num_puntos):\n",
    "    x1= np.random.normal(0.0, 0.55)\n",
    "    y1= x1 * 0.1 + 0.3 + np.random.normal(0.0, 0.03)\n",
    "    conjunto_puntos.append([x1, y1])\n",
    "    \n",
    "    \n",
    "x_data = [v[0] for v in conjunto_puntos]\n",
    "y_data = [v[1] for v in conjunto_puntos]\n",
    "\n",
    "\n"
   ]
  },
  {
   "cell_type": "code",
   "execution_count": 3,
   "metadata": {},
   "outputs": [
    {
     "name": "stdout",
     "output_type": "stream",
     "text": [
      "0 [-0.17642689] [0.]\n",
      "1 [-0.10852139] [0.29431865]\n",
      "2 [-0.04913531] [0.29666963]\n",
      "3 [-0.00602977] [0.29872566]\n",
      "4 [0.0252706] [0.30021805]\n",
      "5 [0.04799881] [0.30130172]\n",
      "6 [0.06450251] [0.30208862]\n",
      "7 [0.07648638] [0.30266]\n",
      "8 [0.08518826] [0.3030749]\n",
      "9 [0.09150698] [0.30337617]\n",
      "10 [0.0960952] [0.30359492]\n",
      "11 [0.09942687] [0.3037538]\n",
      "12 [0.1018461] [0.30386913]\n",
      "13 [0.10360278] [0.3039529]\n",
      "14 [0.10487837] [0.3040137]\n",
      "15 [0.10580461] [0.30405787]\n",
      "16 [0.10647719] [0.30408993]\n",
      "17 [0.10696556] [0.3041132]\n",
      "18 [0.10732019] [0.30413014]\n",
      "19 [0.1075777] [0.30414242]\n"
     ]
    }
   ],
   "source": [
    "W = tf.Variable(tf.random_uniform([1], -1.0, 1.0))\n",
    "b = tf.Variable(tf.zeros([1]))\n",
    "y = W * x_data + b\n",
    "loss = tf.reduce_mean(tf.square(y - y_data))\n",
    "optimizer = tf.train.GradientDescentOptimizer(0.5)\n",
    "train = optimizer.minimize(loss)\n",
    "init = tf.global_variables_initializer()\n",
    "sess = tf.Session()\n",
    "sess.run(init)\n",
    "for step in range(20):\n",
    "    print(step, sess.run(W), sess.run(b))\n",
    "    sess.run(train)\n",
    " "
   ]
  },
  {
   "cell_type": "code",
   "execution_count": null,
   "metadata": {},
   "outputs": [],
   "source": []
  },
  {
   "cell_type": "code",
   "execution_count": 17,
   "metadata": {},
   "outputs": [
    {
     "name": "stdout",
     "output_type": "stream",
     "text": [
      "0 [0.49537522] [0.2629783]\n",
      "1 [0.37518013] [0.27196604]\n",
      "2 [0.29090202] [0.27917334]\n",
      "3 [0.23175381] [0.28422695]\n",
      "4 [0.19024259] [0.28777367]\n",
      "5 [0.16110928] [0.29026282]\n",
      "6 [0.14066303] [0.29200977]\n",
      "7 [0.12631351] [0.29323578]\n",
      "8 [0.11624277] [0.29409623]\n",
      "9 [0.10917494] [0.29470012]\n",
      "10 [0.10421462] [0.2951239]\n",
      "11 [0.10073339] [0.29542136]\n",
      "12 [0.0982902] [0.2956301]\n",
      "13 [0.09657553] [0.2957766]\n",
      "14 [0.09537214] [0.29587942]\n",
      "15 [0.09452758] [0.29595158]\n",
      "16 [0.09393486] [0.2960022]\n",
      "17 [0.09351887] [0.29603776]\n",
      "18 [0.09322692] [0.2960627]\n",
      "19 [0.09302203] [0.2960802]\n",
      "20 [0.09287824] [0.2960925]\n",
      "21 [0.09277732] [0.29610112]\n",
      "22 [0.09270649] [0.29610717]\n",
      "23 [0.09265678] [0.2961114]\n",
      "24 [0.0926219] [0.2961144]\n",
      "25 [0.09259742] [0.2961165]\n",
      "26 [0.09258024] [0.29611796]\n",
      "27 [0.09256817] [0.296119]\n",
      "28 [0.09255971] [0.29611972]\n",
      "29 [0.09255377] [0.29612023]\n",
      "30 [0.0925496] [0.29612058]\n",
      "31 [0.09254667] [0.29612082]\n",
      "32 [0.09254462] [0.296121]\n",
      "33 [0.09254318] [0.29612112]\n",
      "34 [0.09254217] [0.2961212]\n",
      "35 [0.09254146] [0.29612127]\n",
      "36 [0.09254096] [0.29612133]\n",
      "37 [0.09254061] [0.29612136]\n",
      "38 [0.09254037] [0.29612136]\n",
      "39 [0.0925402] [0.2961214]\n",
      "40 [0.09254008] [0.2961214]\n",
      "41 [0.09253999] [0.2961214]\n",
      "42 [0.09253993] [0.29612142]\n",
      "43 [0.09253988] [0.29612142]\n",
      "44 [0.09253985] [0.29612142]\n",
      "45 [0.09253983] [0.29612142]\n",
      "46 [0.09253982] [0.29612142]\n",
      "47 [0.09253981] [0.29612142]\n",
      "48 [0.0925398] [0.29612142]\n",
      "49 [0.09253979] [0.29612142]\n"
     ]
    }
   ],
   "source": [
    "sess.run(init)\n",
    "for step in range(50):\n",
    "    sess.run(train)\n",
    "    print(step, sess.run(W), sess.run(b))\n",
    "    y_pred_value=sess.run(y)"
   ]
  },
  {
   "cell_type": "code",
   "execution_count": 14,
   "metadata": {},
   "outputs": [
    {
     "name": "stdout",
     "output_type": "stream",
     "text": [
      "<class 'type'>\n"
     ]
    }
   ],
   "source": []
  },
  {
   "cell_type": "code",
   "execution_count": null,
   "metadata": {},
   "outputs": [],
   "source": []
  }
 ],
 "metadata": {
  "kernelspec": {
   "display_name": "NNlab",
   "language": "python",
   "name": "nnlab"
  },
  "language_info": {
   "codemirror_mode": {
    "name": "ipython",
    "version": 3
   },
   "file_extension": ".py",
   "mimetype": "text/x-python",
   "name": "python",
   "nbconvert_exporter": "python",
   "pygments_lexer": "ipython3",
   "version": "3.6.6"
  }
 },
 "nbformat": 4,
 "nbformat_minor": 2
}

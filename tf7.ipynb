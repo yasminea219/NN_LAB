{
 "cells": [
  {
   "cell_type": "code",
   "execution_count": 1,
   "metadata": {},
   "outputs": [],
   "source": [
    "import numpy as np\n",
    "import tensorflow as tf"
   ]
  },
  {
   "cell_type": "code",
   "execution_count": 2,
   "metadata": {},
   "outputs": [
    {
     "name": "stdout",
     "output_type": "stream",
     "text": [
      "[50043.848, None]\n",
      "[50036.44, None]\n",
      "[50031.156, None]\n",
      "[50026.926, None]\n",
      "[50023.28, None]\n",
      "[50019.996, None]\n",
      "[50016.945, None]\n",
      "[50014.168, None]\n",
      "[50011.547, None]\n",
      "[50009.05, None]\n",
      "[50006.723, None]\n",
      "[50004.473, None]\n",
      "[50002.324, None]\n",
      "[50000.273, None]\n",
      "[49998.33, None]\n",
      "[49996.418, None]\n",
      "[49994.58, None]\n",
      "[49992.81, None]\n",
      "[49991.07, None]\n",
      "[49989.4, None]\n",
      "[49987.727, None]\n",
      "[49986.062, None]\n",
      "[49984.49, None]\n",
      "[49982.953, None]\n",
      "[49981.47, None]\n",
      "[49980.043, None]\n",
      "[49978.57, None]\n",
      "[49977.164, None]\n",
      "[49975.8, None]\n",
      "[49974.41, None]\n",
      "[49973.023, None]\n",
      "[49971.707, None]\n",
      "[49970.37, None]\n",
      "[49969.09, None]\n",
      "[49967.82, None]\n",
      "[49966.594, None]\n",
      "[49965.34, None]\n",
      "[49964.05, None]\n",
      "[49962.81, None]\n",
      "[49961.645, None]\n",
      "[49960.45, None]\n",
      "[49959.28, None]\n",
      "[49958.188, None]\n",
      "[49957.082, None]\n",
      "[49955.96, None]\n",
      "[49954.867, None]\n",
      "[49953.79, None]\n",
      "[49952.766, None]\n",
      "[49951.715, None]\n",
      "[49950.656, None]\n"
     ]
    }
   ],
   "source": [
    "N, H, D=64, 100, 1000\n",
    "x=tf.placeholder(tf.float32, shape=(N, D))\n",
    "y=tf.placeholder(tf.float32, shape=(N, D))\n",
    "w1=tf.Variable(tf.random_normal((D, H)))\n",
    "w2=tf.Variable(tf.random_normal((H, D)))\n",
    "\n",
    "h=tf.maximum(tf.matmul(x, w1), 0)\n",
    "y_pred=tf.matmul(h,w2)\n",
    "loss=tf.losses.mean_squared_error(y_pred, y)\n",
    "optimizer = tf.train.AdagradOptimizer(1e-5)\n",
    "updates=optimizer.minimize(loss)\n",
    "with tf.Session() as sess:\n",
    "    \n",
    "    sess.run(tf.global_variables_initializer())\n",
    "    values = {x: np.random.randn(N, D),\n",
    "              y:  np.random.randn(N, D)\n",
    "               }\n",
    "    losses=[] #??\n",
    "    for t in range(50):\n",
    "        loss_val=sess.run([loss, updates], feed_dict=values)\n",
    "        print(loss_val)"
   ]
  },
  {
   "cell_type": "code",
   "execution_count": null,
   "metadata": {},
   "outputs": [],
   "source": []
  }
 ],
 "metadata": {
  "kernelspec": {
   "display_name": "NNlab",
   "language": "python",
   "name": "nnlab"
  },
  "language_info": {
   "codemirror_mode": {
    "name": "ipython",
    "version": 3
   },
   "file_extension": ".py",
   "mimetype": "text/x-python",
   "name": "python",
   "nbconvert_exporter": "python",
   "pygments_lexer": "ipython3",
   "version": "3.6.6"
  }
 },
 "nbformat": 4,
 "nbformat_minor": 2
}
